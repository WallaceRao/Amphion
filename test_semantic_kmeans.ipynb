{
 "cells": [
  {
   "cell_type": "code",
   "execution_count": null,
   "metadata": {},
   "outputs": [],
   "source": [
    "from models.codec.kmeans.kmeans_model import KMeans, KMeansEMA\n",
    "from transformers import Wav2Vec2BertModel\n",
    "from transformers import SeamlessM4TFeatureExtractor\n",
    "import torch\n",
    "import torch.nn as nn\n",
    "import torch.nn.functional as F\n",
    "import numpy as np\n",
    "import os\n",
    "import librosa\n",
    "from IPython.display import Audio\n",
    "import matplotlib.pyplot as plt"
   ]
  },
  {
   "cell_type": "code",
   "execution_count": null,
   "metadata": {},
   "outputs": [],
   "source": [
    "kmeans_model = KMeansEMA(1024, 1024)\n",
    "model_path = \"/blob/v-yuancwang/codec_ckpt/semantic_kmeans/semantic_kmeans_ema_debug_libritts/checkpoint/epoch-0010_step-0002000_loss-679.313721/pytorch_model.bin\"\n",
    "kmeans_model.load_state_dict(torch.load(model_path))\n",
    "kmeans_model.eval()\n",
    "kmeans_model.cuda()"
   ]
  },
  {
   "cell_type": "code",
   "execution_count": null,
   "metadata": {},
   "outputs": [],
   "source": [
    "wav_path_0 = \"/home/t-zeqianju/yuancwang/temp_test_dataset/libritts-train-clean-100/train-clean-100/8468/294887/8468_294887_000017_000002.wav\"\n",
    "wav_path_1 = \"/home/t-zeqianju/yuancwang/temp_test_dataset/libritts-train-clean-100/train-clean-100/5022/29405/5022_29405_000025_000003.wav\"\n",
    "wav_path_2 = \"/home/t-zeqianju/yuancwang/temp_test_dataset/libritts-train-clean-100/train-clean-100/5022/29411/5022_29411_000051_000002.wav\"\n",
    "wav_path_4 = \"/home/t-zeqianju/yuancwang/temp_test_dataset/libritts-train-clean-100/train-clean-100/1502/122619/1502_122619_000052_000002.wav\"\n",
    "# concat 4 wav\n",
    "wav_0, sr = librosa.load(wav_path_0, sr=16000)\n",
    "wav_1, sr = librosa.load(wav_path_1, sr=16000)\n",
    "wav_2, sr = librosa.load(wav_path_2, sr=16000)\n",
    "wav_4, sr = librosa.load(wav_path_4, sr=16000)\n",
    "wav = np.concatenate([wav_0, wav_1, wav_2, wav_4])\n",
    "Audio(wav, rate=16000)"
   ]
  },
  {
   "cell_type": "code",
   "execution_count": null,
   "metadata": {},
   "outputs": [],
   "source": [
    "len(wav) // 320"
   ]
  },
  {
   "cell_type": "code",
   "execution_count": null,
   "metadata": {},
   "outputs": [],
   "source": [
    "processor = SeamlessM4TFeatureExtractor.from_pretrained(\"facebook/w2v-bert-2.0\")\n",
    "semantic_model = Wav2Vec2BertModel.from_pretrained(\"facebook/w2v-bert-2.0\")\n",
    "semantic_model.eval()\n",
    "semantic_model = semantic_model.cuda()\n",
    "layer_idx = 15\n",
    "if layer_idx == 23:\n",
    "    output_idx = 0\n",
    "else:\n",
    "    output_idx = layer_idx + 2\n",
    "stat_mean_var = torch.load(\"/home/t-zeqianju/yuancwang/mls_wav2vec2bert_stats.pt\")\n",
    "semantic_mean = stat_mean_var[\"mean\"]\n",
    "semantic_std = torch.sqrt(stat_mean_var[\"var\"])\n",
    "semantic_mean = semantic_mean.to(\"cuda\")\n",
    "semantic_std = semantic_std.to(\"cuda\")\n",
    "print(\"semantic mean: \", semantic_mean, \"semantic std: \", semantic_std)"
   ]
  },
  {
   "cell_type": "code",
   "execution_count": null,
   "metadata": {},
   "outputs": [],
   "source": [
    "speech_data = wav\n",
    "inputs = processor(speech_data, sampll_rate=16000)\n",
    "input_features = inputs[\"input_features\"]\n",
    "print(input_features.shape)\n",
    "attention_mask = inputs[\"attention_mask\"]\n",
    "print(attention_mask.shape)"
   ]
  },
  {
   "cell_type": "code",
   "execution_count": null,
   "metadata": {},
   "outputs": [],
   "source": [
    "# plot input features\n",
    "plt.figure(figsize=(10, 4))\n",
    "plt.imshow(input_features[0].T, aspect=\"auto\", origin=\"lower\")\n",
    "plt.colorbar()\n",
    "plt.title(\"Input Features\")\n",
    "plt.show()"
   ]
  },
  {
   "cell_type": "code",
   "execution_count": null,
   "metadata": {},
   "outputs": [],
   "source": [
    "input_features = torch.tensor(input_features).cuda()\n",
    "attention_mask = torch.tensor(attention_mask).cuda()"
   ]
  },
  {
   "cell_type": "code",
   "execution_count": null,
   "metadata": {},
   "outputs": [],
   "source": [
    "with torch.no_grad():\n",
    "    vq_emb = semantic_model(\n",
    "        input_features=input_features,\n",
    "        attention_mask=attention_mask,\n",
    "        output_hidden_states=True,\n",
    "    )\n",
    "    feat = vq_emb.hidden_states[output_idx]  # B x T x C\n",
    "    feat = (feat - semantic_mean.to(feat)) / semantic_std.to(feat)"
   ]
  },
  {
   "cell_type": "code",
   "execution_count": null,
   "metadata": {},
   "outputs": [],
   "source": [
    "vq_id, _ = kmeans_model.quantize(feat)\n",
    "vq_id = vq_id.cpu().numpy()[0]\n",
    "print(vq_id)"
   ]
  },
  {
   "cell_type": "code",
   "execution_count": null,
   "metadata": {},
   "outputs": [],
   "source": [
    "unique, counts = np.unique(vq_id, return_counts=True)\n",
    "idx = np.argsort(counts)[::-1]\n",
    "unique = unique[idx]\n",
    "counts = counts[idx]\n",
    "print(unique)"
   ]
  },
  {
   "cell_type": "code",
   "execution_count": null,
   "metadata": {},
   "outputs": [],
   "source": [
    "idx = np.where(vq_id == 411)[0]\n",
    "print(idx)"
   ]
  },
  {
   "cell_type": "code",
   "execution_count": null,
   "metadata": {},
   "outputs": [],
   "source": [
    "Audio(wav[(idx[0]-5) * 320: (idx[0]+5) * 320], rate=16000)"
   ]
  },
  {
   "cell_type": "code",
   "execution_count": null,
   "metadata": {},
   "outputs": [],
   "source": [
    "Audio(wav[(idx[1]-5) * 320: (idx[1]+5) * 320], rate=16000)"
   ]
  },
  {
   "cell_type": "code",
   "execution_count": null,
   "metadata": {},
   "outputs": [],
   "source": [
    "Audio(wav[(idx[2]-5) * 320: (idx[2]+5) * 320], rate=16000)"
   ]
  },
  {
   "cell_type": "code",
   "execution_count": null,
   "metadata": {},
   "outputs": [],
   "source": [
    "Audio(wav[(idx[3]-5) * 320: (idx[3]+5) * 320], rate=16000)"
   ]
  },
  {
   "cell_type": "code",
   "execution_count": null,
   "metadata": {},
   "outputs": [],
   "source": [
    "Audio(wav[(idx[4]-5) * 320: (idx[4]+5) * 320], rate=16000)"
   ]
  }
 ],
 "metadata": {
  "kernelspec": {
   "display_name": "codec",
   "language": "python",
   "name": "python3"
  },
  "language_info": {
   "codemirror_mode": {
    "name": "ipython",
    "version": 3
   },
   "file_extension": ".py",
   "mimetype": "text/x-python",
   "name": "python",
   "nbconvert_exporter": "python",
   "pygments_lexer": "ipython3",
   "version": "3.8.18"
  },
  "orig_nbformat": 4
 },
 "nbformat": 4,
 "nbformat_minor": 2
}
